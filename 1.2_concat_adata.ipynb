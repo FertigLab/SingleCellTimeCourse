{
 "cells": [
  {
   "cell_type": "code",
   "execution_count": 12,
   "metadata": {},
   "outputs": [],
   "source": [
    "import anndata as ad\n",
    "import scanpy as sc\n",
    "import numpy as np\n",
    "import scipy as scp\n",
    "import os\n",
    "import re"
   ]
  },
  {
   "cell_type": "code",
   "execution_count": 11,
   "metadata": {},
   "outputs": [
    {
     "data": {
      "text/plain": [
       "['output_S13_L002_adata.h5ad',\n",
       " 'output_S13_L003_adata.h5ad',\n",
       " 'output_S13_L004_adata.h5ad',\n",
       " 'output_S13_L005_adata.h5ad',\n",
       " 'output_S13_L006_adata.h5ad',\n",
       " 'output_S13_L007_adata.h5ad',\n",
       " 'output_S13_L008_adata.h5ad',\n",
       " 'output_S14_L002_adata.h5ad',\n",
       " 'output_S14_L003_adata.h5ad',\n",
       " 'output_S14_L004_adata.h5ad',\n",
       " 'output_S14_L005_adata.h5ad',\n",
       " 'output_S14_L006_adata.h5ad',\n",
       " 'output_S14_L007_adata.h5ad',\n",
       " 'output_S14_L008_adata.h5ad',\n",
       " 'output_S15_L002_adata.h5ad',\n",
       " 'output_S15_L003_adata.h5ad',\n",
       " 'output_S15_L004_adata.h5ad',\n",
       " 'output_S15_L005_adata.h5ad',\n",
       " 'output_S15_L006_adata.h5ad',\n",
       " 'output_S15_L007_adata.h5ad',\n",
       " 'output_S15_L008_adata.h5ad',\n",
       " 'output_S16_L002_adata.h5ad',\n",
       " 'output_S16_L003_adata.h5ad',\n",
       " 'output_S16_L004_adata.h5ad',\n",
       " 'output_S16_L005_adata.h5ad',\n",
       " 'output_S16_L006_adata.h5ad',\n",
       " 'output_S16_L007_adata.h5ad',\n",
       " 'output_S16_L008_adata.h5ad',\n",
       " 'output_S17_L002_adata.h5ad',\n",
       " 'output_S17_L003_adata.h5ad',\n",
       " 'output_S17_L004_adata.h5ad',\n",
       " 'output_S17_L005_adata.h5ad',\n",
       " 'output_S17_L006_adata.h5ad',\n",
       " 'output_S17_L007_adata.h5ad',\n",
       " 'output_S17_L008_adata.h5ad',\n",
       " 'output_S18_L002_adata.h5ad',\n",
       " 'output_S18_L003_adata.h5ad',\n",
       " 'output_S18_L004_adata.h5ad',\n",
       " 'output_S18_L005_adata.h5ad',\n",
       " 'output_S18_L006_adata.h5ad',\n",
       " 'output_S18_L007_adata.h5ad',\n",
       " 'output_S18_L008_adata.h5ad',\n",
       " 'output_S1_L001_adata.h5ad',\n",
       " 'output_S1_L002_adata.h5ad',\n",
       " 'output_S1_L003_adata.h5ad',\n",
       " 'output_S1_L004_adata.h5ad',\n",
       " 'output_S1_L005_adata.h5ad',\n",
       " 'output_S1_L006_adata.h5ad',\n",
       " 'output_S1_L007_adata.h5ad',\n",
       " 'output_S1_L008_adata.h5ad',\n",
       " 'output_S2_L002_adata.h5ad',\n",
       " 'output_S2_L003_adata.h5ad',\n",
       " 'output_S2_L004_adata.h5ad',\n",
       " 'output_S2_L005_adata.h5ad',\n",
       " 'output_S2_L006_adata.h5ad',\n",
       " 'output_S2_L007_adata.h5ad',\n",
       " 'output_S2_L008_adata.h5ad',\n",
       " 'output_S3_L002_adata.h5ad',\n",
       " 'output_S3_L003_adata.h5ad',\n",
       " 'output_S3_L004_adata.h5ad',\n",
       " 'output_S3_L005_adata.h5ad',\n",
       " 'output_S3_L006_adata.h5ad',\n",
       " 'output_S3_L007_adata.h5ad',\n",
       " 'output_S3_L008_adata.h5ad',\n",
       " 'output_S4_L002_adata.h5ad',\n",
       " 'output_S4_L003_adata.h5ad',\n",
       " 'output_S4_L004_adata.h5ad',\n",
       " 'output_S4_L005_adata.h5ad',\n",
       " 'output_S4_L006_adata.h5ad',\n",
       " 'output_S4_L007_adata.h5ad',\n",
       " 'output_S4_L008_adata.h5ad',\n",
       " 'output_S5_L002_adata.h5ad',\n",
       " 'output_S5_L003_adata.h5ad',\n",
       " 'output_S5_L004_adata.h5ad',\n",
       " 'output_S5_L005_adata.h5ad',\n",
       " 'output_S5_L006_adata.h5ad',\n",
       " 'output_S5_L007_adata.h5ad',\n",
       " 'output_S5_L008_adata.h5ad',\n",
       " 'output_S6_L002_adata.h5ad',\n",
       " 'output_S6_L003_adata.h5ad',\n",
       " 'output_S6_L004_adata.h5ad',\n",
       " 'output_S6_L005_adata.h5ad',\n",
       " 'output_S6_L006_adata.h5ad',\n",
       " 'output_S6_L007_adata.h5ad',\n",
       " 'output_S6_L008_adata.h5ad']"
      ]
     },
     "execution_count": 11,
     "metadata": {},
     "output_type": "execute_result"
    }
   ],
   "source": [
    "#Read the downloaded output file names and combine file with same S\n",
    "adataNames = os.listdir('./adataObjs/')\n",
    "adataList = []\n",
    "adataNames.sort()\n",
    "adataNames"
   ]
  },
  {
   "cell_type": "code",
   "execution_count": 36,
   "metadata": {},
   "outputs": [
    {
     "data": {
      "text/plain": [
       "{'S13': [0, 1, 2, 3, 4, 5, 6],\n",
       " 'S14': [7, 8, 9, 10, 11, 12, 13],\n",
       " 'S15': [14, 15, 16, 17, 18, 19, 20],\n",
       " 'S16': [21, 22, 23, 24, 25, 26, 27],\n",
       " 'S17': [28, 29, 30, 31, 32, 33, 34],\n",
       " 'S18': [35, 36, 37, 38, 39, 40, 41],\n",
       " 'S1': [42, 43, 44, 45, 46, 47, 48, 49],\n",
       " 'S2': [50, 51, 52, 53, 54, 55, 56],\n",
       " 'S3': [57, 58, 59, 60, 61, 62, 63],\n",
       " 'S4': [64, 65, 66, 67, 68, 69, 70],\n",
       " 'S5': [71, 72, 73, 74, 75, 76, 77],\n",
       " 'S6': [78, 79, 80, 81, 82, 83, 84]}"
      ]
     },
     "execution_count": 36,
     "metadata": {},
     "output_type": "execute_result"
    }
   ],
   "source": [
    "# Save same sample indices in a dictionary\n",
    "samples = []\n",
    "sampleDict = {}\n",
    "for i,an in enumerate(adataNames):\n",
    "    match = re.search('S[0-9]+',an).group()\n",
    "    samples.append(match)\n",
    "    if match in sampleDict:\n",
    "        sampleDict[match].append(i)\n",
    "    else:\n",
    "        sampleDict[match] = [i]\n",
    "sampleDict"
   ]
  },
  {
   "cell_type": "code",
   "execution_count": 37,
   "metadata": {},
   "outputs": [
    {
     "data": {
      "text/plain": [
       "dict_keys(['S13', 'S14', 'S15', 'S16', 'S17', 'S18', 'S1', 'S2', 'S3', 'S4', 'S5', 'S6'])"
      ]
     },
     "execution_count": 37,
     "metadata": {},
     "output_type": "execute_result"
    }
   ],
   "source": [
    "sampleDict.keys()"
   ]
  },
  {
   "cell_type": "code",
   "execution_count": 39,
   "metadata": {},
   "outputs": [],
   "source": [
    "#The idea is to loop through each sample and then join them together\n",
    "s = 'S13'\n",
    "# for s in sampleDict.keys()"
   ]
  },
  {
   "cell_type": "code",
   "execution_count": 42,
   "metadata": {},
   "outputs": [
    {
     "data": {
      "text/plain": [
       "[AnnData object with n_obs × n_vars = 154041 × 60623 \n",
       "     layers: 'spliced', 'unspliced',\n",
       " AnnData object with n_obs × n_vars = 118165 × 60623 \n",
       "     layers: 'spliced', 'unspliced',\n",
       " AnnData object with n_obs × n_vars = 157825 × 60623 \n",
       "     layers: 'spliced', 'unspliced',\n",
       " AnnData object with n_obs × n_vars = 116408 × 60623 \n",
       "     layers: 'spliced', 'unspliced',\n",
       " AnnData object with n_obs × n_vars = 159465 × 60623 \n",
       "     layers: 'spliced', 'unspliced',\n",
       " AnnData object with n_obs × n_vars = 158622 × 60623 \n",
       "     layers: 'spliced', 'unspliced',\n",
       " AnnData object with n_obs × n_vars = 161416 × 60623 \n",
       "     layers: 'spliced', 'unspliced']"
      ]
     },
     "execution_count": 42,
     "metadata": {},
     "output_type": "execute_result"
    }
   ],
   "source": [
    "indices = sampleDict[s]\n",
    "adataList = []\n",
    "for i in indices:\n",
    "    adataList.append(ad.read_h5ad('./adataObjs/'+adataNames[i]))\n",
    "adataList"
   ]
  },
  {
   "cell_type": "code",
   "execution_count": null,
   "metadata": {},
   "outputs": [],
   "source": []
  }
 ],
 "metadata": {
  "kernelspec": {
   "display_name": "(Fertig) Python 3.7",
   "language": "python",
   "name": "fertig_python_3_7"
  },
  "language_info": {
   "codemirror_mode": {
    "name": "ipython",
    "version": 3
   },
   "file_extension": ".py",
   "mimetype": "text/x-python",
   "name": "python",
   "nbconvert_exporter": "python",
   "pygments_lexer": "ipython3",
   "version": "3.7.3"
  }
 },
 "nbformat": 4,
 "nbformat_minor": 2
}
