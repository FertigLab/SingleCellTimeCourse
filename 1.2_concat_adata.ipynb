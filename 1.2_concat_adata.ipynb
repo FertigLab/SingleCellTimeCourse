{
 "cells": [
  {
   "cell_type": "code",
   "execution_count": 1,
   "metadata": {},
   "outputs": [],
   "source": [
    "import anndata as ad\n",
    "import scanpy as sc\n",
    "import numpy as np\n",
    "import scipy as scp\n",
    "import os\n",
    "import re"
   ]
  },
  {
   "cell_type": "code",
   "execution_count": 2,
   "metadata": {},
   "outputs": [
    {
     "data": {
      "text/plain": [
       "['S13_L002_adata_keep.h5ad',\n",
       " 'S13_L003_adata_keep.h5ad',\n",
       " 'S13_L004_adata_keep.h5ad',\n",
       " 'S13_L005_adata_keep.h5ad',\n",
       " 'S13_L006_adata_keep.h5ad',\n",
       " 'S13_L007_adata_keep.h5ad',\n",
       " 'S13_L008_adata_keep.h5ad',\n",
       " 'S14_L002_adata_keep.h5ad',\n",
       " 'S14_L003_adata_keep.h5ad',\n",
       " 'S14_L004_adata_keep.h5ad',\n",
       " 'S14_L005_adata_keep.h5ad',\n",
       " 'S14_L006_adata_keep.h5ad',\n",
       " 'S14_L007_adata_keep.h5ad',\n",
       " 'S14_L008_adata_keep.h5ad',\n",
       " 'S15_L002_adata_keep.h5ad',\n",
       " 'S15_L003_adata_keep.h5ad',\n",
       " 'S15_L004_adata_keep.h5ad',\n",
       " 'S15_L005_adata_keep.h5ad',\n",
       " 'S15_L006_adata_keep.h5ad',\n",
       " 'S15_L007_adata_keep.h5ad',\n",
       " 'S15_L008_adata_keep.h5ad',\n",
       " 'S16_L002_adata_keep.h5ad',\n",
       " 'S16_L003_adata_keep.h5ad',\n",
       " 'S16_L004_adata_keep.h5ad',\n",
       " 'S16_L005_adata_keep.h5ad',\n",
       " 'S16_L006_adata_keep.h5ad',\n",
       " 'S16_L007_adata_keep.h5ad',\n",
       " 'S16_L008_adata_keep.h5ad',\n",
       " 'S17_L002_adata_keep.h5ad',\n",
       " 'S17_L003_adata_keep.h5ad',\n",
       " 'S17_L004_adata_keep.h5ad',\n",
       " 'S17_L005_adata_keep.h5ad',\n",
       " 'S17_L006_adata_keep.h5ad',\n",
       " 'S17_L007_adata_keep.h5ad',\n",
       " 'S17_L008_adata_keep.h5ad',\n",
       " 'S18_L002_adata_keep.h5ad',\n",
       " 'S18_L003_adata_keep.h5ad',\n",
       " 'S18_L004_adata_keep.h5ad',\n",
       " 'S18_L005_adata_keep.h5ad',\n",
       " 'S18_L006_adata_keep.h5ad',\n",
       " 'S18_L007_adata_keep.h5ad',\n",
       " 'S18_L008_adata_keep.h5ad',\n",
       " 'S1_L001_adata_keep.h5ad',\n",
       " 'S1_L002_adata_keep.h5ad',\n",
       " 'S1_L003_adata_keep.h5ad',\n",
       " 'S1_L004_adata_keep.h5ad',\n",
       " 'S1_L005_adata_keep.h5ad',\n",
       " 'S1_L006_adata_keep.h5ad',\n",
       " 'S1_L007_adata_keep.h5ad',\n",
       " 'S1_L008_adata_keep.h5ad',\n",
       " 'S2_L002_adata_keep.h5ad',\n",
       " 'S2_L003_adata_keep.h5ad',\n",
       " 'S2_L004_adata_keep.h5ad',\n",
       " 'S2_L005_adata_keep.h5ad',\n",
       " 'S2_L006_adata_keep.h5ad',\n",
       " 'S2_L007_adata_keep.h5ad',\n",
       " 'S2_L008_adata_keep.h5ad',\n",
       " 'S3_L002_adata_keep.h5ad',\n",
       " 'S3_L003_adata_keep.h5ad',\n",
       " 'S3_L004_adata_keep.h5ad',\n",
       " 'S3_L005_adata_keep.h5ad',\n",
       " 'S3_L006_adata_keep.h5ad',\n",
       " 'S3_L007_adata_keep.h5ad',\n",
       " 'S3_L008_adata_keep.h5ad',\n",
       " 'S4_L002_adata_keep.h5ad',\n",
       " 'S4_L003_adata_keep.h5ad']"
      ]
     },
     "execution_count": 2,
     "metadata": {},
     "output_type": "execute_result"
    }
   ],
   "source": [
    "#Read the downloaded output file names and combine file with same S\n",
    "adataNames = os.listdir('./adataObjsKeep/')\n",
    "adataList = []\n",
    "adataNames.sort()\n",
    "adataNames"
   ]
  },
  {
   "cell_type": "code",
   "execution_count": 3,
   "metadata": {},
   "outputs": [
    {
     "data": {
      "text/plain": [
       "{'S13': [0, 1, 2, 3, 4, 5, 6],\n",
       " 'S14': [7, 8, 9, 10, 11, 12, 13],\n",
       " 'S15': [14, 15, 16, 17, 18, 19, 20],\n",
       " 'S16': [21, 22, 23, 24, 25, 26, 27],\n",
       " 'S17': [28, 29, 30, 31, 32, 33, 34],\n",
       " 'S18': [35, 36, 37, 38, 39, 40, 41],\n",
       " 'S1': [42, 43, 44, 45, 46, 47, 48, 49],\n",
       " 'S2': [50, 51, 52, 53, 54, 55, 56],\n",
       " 'S3': [57, 58, 59, 60, 61, 62, 63],\n",
       " 'S4': [64, 65]}"
      ]
     },
     "execution_count": 3,
     "metadata": {},
     "output_type": "execute_result"
    }
   ],
   "source": [
    "# Save same sample indices in a dictionary\n",
    "samples = []\n",
    "sampleDict = {}\n",
    "for i,an in enumerate(adataNames):\n",
    "    match = re.search('S[0-9]+',an).group()\n",
    "    samples.append(match)\n",
    "    if match in sampleDict:\n",
    "        sampleDict[match].append(i)\n",
    "    else:\n",
    "        sampleDict[match] = [i]\n",
    "sampleDict"
   ]
  },
  {
   "cell_type": "code",
   "execution_count": 4,
   "metadata": {},
   "outputs": [
    {
     "data": {
      "text/plain": [
       "['S13', 'S14', 'S15', 'S16', 'S17', 'S18', 'S1', 'S2', 'S3', 'S4', 'S5', 'S6']"
      ]
     },
     "execution_count": 4,
     "metadata": {},
     "output_type": "execute_result"
    }
   ],
   "source": [
    "list(sampleDict.keys())"
   ]
  },
  {
   "cell_type": "code",
   "execution_count": null,
   "metadata": {},
   "outputs": [
    {
     "name": "stdout",
     "output_type": "stream",
     "text": [
      "[AnnData object with n_obs × n_vars = 154041 × 60623 \n",
      "    layers: 'spliced', 'unspliced', AnnData object with n_obs × n_vars = 118165 × 60623 \n",
      "    layers: 'spliced', 'unspliced', AnnData object with n_obs × n_vars = 157825 × 60623 \n",
      "    layers: 'spliced', 'unspliced']\n"
     ]
    }
   ],
   "source": [
    "#The idea is to loop through each sample and then join them together\n",
    "for s in list(sampleDict.keys())[:5]:\n",
    "# for s in sampleDict.keys()\n",
    "    indices = sampleDict[s]\n",
    "    len_indices = len(indices)\n",
    "    mid = int(len_indices/2)\n",
    "    indxs = [indices[:mid],indices[mid:]]\n",
    "    for j in range(2):\n",
    "        print('working on iteration ' + str(j+1) + '/2 for ' + s )\n",
    "        indx = indxs[j]\n",
    "        adataList = []\n",
    "        for i in indx:\n",
    "            adataList.append(ad.read_h5ad('./adataObjs/'+adataNames[i]))\n",
    "        print(adataList)\n",
    "        checkSameVar = []\n",
    "        for i in range(1,len(adataList)):\n",
    "            checkSameVar.append(all(adataList[i].var.index == adataList[i-1].var.index))\n",
    "        check = all(checkSameVar)\n",
    "        assert check == True, \"The vars are not same in all adata\"\n",
    "        #convert each sparse matrix to array\n",
    "        XList = []\n",
    "        SList = []\n",
    "        UList = []\n",
    "        obs = []\n",
    "        var = []\n",
    "        for an in adataList:\n",
    "            XList.append(an.X.toarray())\n",
    "            SList.append(an.layers['spliced'].toarray())\n",
    "            UList.append(an.layers['unspliced'].toarray())\n",
    "            obs.append(an.obs)\n",
    "            var.append(an.var)\n",
    "        cellDict = {}\n",
    "        X = np.array([XList[0][0]])\n",
    "        U = np.array([SList[0][0]])\n",
    "        S = np.array([UList[0][0]])\n",
    "        obs_names = []\n",
    "        #check if var names are same in all objects in adataList\n",
    "        var_names = adataList[0].var.index\n",
    "        obs_names.append(adataList[0].obs.index[0])\n",
    "\n",
    "        cellDict[adataList[0].obs.index[0]] = 0\n",
    "        nextIndex = 1 #next index of final X,S, and U\n",
    "\n",
    "        for i in range(len(adataList)):\n",
    "            if i == 0:\n",
    "                for j in range(1,adataList[i].shape[0]):\n",
    "                    if adataList[i].obs.index[j] in cellDict: # existing barcode\n",
    "                        idx = cellDict[obs[i].index[j]]\n",
    "                        X[idx] = X[idx] + XList[i][j]\n",
    "                        S[idx] = S[idx] + SList[i][j]\n",
    "                        U[idx] = U[idx] + UList[i][j]\n",
    "                    else: # new barcode\n",
    "                        cellDict[obs[i].index[j]] = nextIndex\n",
    "                        nextIndex += 1\n",
    "                        X = np.append(X,[XList[i][j]],axis=0)\n",
    "                        S = np.append(S,[SList[i][j]],axis=0)\n",
    "                        U = np.append(U,[UList[i][j]],axis=0)\n",
    "                        obs_names.append(obs[i].index[j])\n",
    "            else:\n",
    "                for j in range(adataList[i].shape[0]):\n",
    "                    if adataList[i].obs.index[j] in cellDict: # existing barcode\n",
    "                        idx = cellDict[obs[i].index[j]]\n",
    "                        X[idx] = X[idx] + XList[i][j]\n",
    "                        S[idx] = S[idx] + SList[i][j]\n",
    "                        U[idx] = U[idx] + UList[i][j]\n",
    "                    else: # new barcode\n",
    "                        cellDict[obs[i].index[j]] = nextIndex\n",
    "                        nextIndex += 1\n",
    "                        X = np.append(X,[XList[i][j]],axis=0)\n",
    "                        S = np.append(S,[SList[i][j]],axis=0)\n",
    "                        U = np.append(U,[UList[i][j]],axis=0)\n",
    "                        obs_names.append(obs[i].index[j])\n",
    "        X = scp.sparse.csr_matrix(X)\n",
    "        S = scp.sparse.csr_matrix(S)\n",
    "        U = scp.sparse.csr_matrix(U)\n",
    "        concatAdata = ad.AnnData(X,\n",
    "                      {'obs_names': obs_names},\n",
    "                      {'var_names': var.values},\n",
    "                       layers={'spliced':S,\n",
    "                              'unspliced':U})\n",
    "        filename = s + '_' + str(j+1) + '.h5ad'\n",
    "        print('joint adata is:')\n",
    "        print(concatAdata25)\n",
    "        print('writing file '+filename)\n",
    "        concatAdata.write(filename)"
   ]
  },
  {
   "cell_type": "code",
   "execution_count": 6,
   "metadata": {},
   "outputs": [
    {
     "data": {
      "text/plain": [
       "array([<1x60623 sparse matrix of type '<class 'numpy.float32'>'\n",
       "\twith 1 stored elements in Compressed Sparse Row format>], dtype=object)"
      ]
     },
     "execution_count": 6,
     "metadata": {},
     "output_type": "execute_result"
    }
   ],
   "source": [
    "X"
   ]
  },
  {
   "cell_type": "code",
   "execution_count": null,
   "metadata": {},
   "outputs": [],
   "source": [
    "import sys\n",
    "\n",
    "# These are the usual ipython objects, including this one you are creating\n",
    "ipython_vars = ['In', 'Out', 'exit', 'quit', 'get_ipython', 'ipython_vars']\n",
    "\n",
    "# Get a sorted list of the objects and their sizes\n",
    "sorted([(x, sys.getsizeof(globals().get(x))) for x in dir() if not x.startswith('_') and x not in sys.modules and x not in ipython_vars], key=lambda x: x[1], reverse=True)"
   ]
  }
 ],
 "metadata": {
  "kernelspec": {
   "display_name": "(Fertig) Python 3.7",
   "language": "python",
   "name": "fertig_python_3_7"
  },
  "language_info": {
   "codemirror_mode": {
    "name": "ipython",
    "version": 3
   },
   "file_extension": ".py",
   "mimetype": "text/x-python",
   "name": "python",
   "nbconvert_exporter": "python",
   "pygments_lexer": "ipython3",
   "version": "3.7.3"
  }
 },
 "nbformat": 4,
 "nbformat_minor": 2
}
