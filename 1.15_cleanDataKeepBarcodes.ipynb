{
 "cells": [
  {
   "cell_type": "code",
   "execution_count": 2,
   "metadata": {},
   "outputs": [],
   "source": [
    "import anndata as ad\n",
    "import pandas as pd\n",
    "import scanpy as sc\n",
    "import numpy as np\n",
    "import scipy as scp\n",
    "import os\n",
    "import re\n",
    "import collections as cl"
   ]
  },
  {
   "cell_type": "code",
   "execution_count": 3,
   "metadata": {},
   "outputs": [
    {
     "ename": "FileNotFoundError",
     "evalue": "[Errno 2] No such file or directory: './adataObjs/'",
     "output_type": "error",
     "traceback": [
      "\u001b[0;31m---------------------------------------------------------------------------\u001b[0m",
      "\u001b[0;31mFileNotFoundError\u001b[0m                         Traceback (most recent call last)",
      "\u001b[0;32m<ipython-input-3-902d0a9a34bb>\u001b[0m in \u001b[0;36m<module>\u001b[0;34m\u001b[0m\n\u001b[1;32m      1\u001b[0m \u001b[0;31m#Read the downloaded output file names and combine file with same S\u001b[0m\u001b[0;34m\u001b[0m\u001b[0;34m\u001b[0m\u001b[0;34m\u001b[0m\u001b[0m\n\u001b[0;32m----> 2\u001b[0;31m \u001b[0madataNames\u001b[0m \u001b[0;34m=\u001b[0m \u001b[0mos\u001b[0m\u001b[0;34m.\u001b[0m\u001b[0mlistdir\u001b[0m\u001b[0;34m(\u001b[0m\u001b[0;34m'./adataObjs/'\u001b[0m\u001b[0;34m)\u001b[0m\u001b[0;34m\u001b[0m\u001b[0;34m\u001b[0m\u001b[0m\n\u001b[0m\u001b[1;32m      3\u001b[0m \u001b[0madataList\u001b[0m \u001b[0;34m=\u001b[0m \u001b[0;34m[\u001b[0m\u001b[0;34m]\u001b[0m\u001b[0;34m\u001b[0m\u001b[0;34m\u001b[0m\u001b[0m\n\u001b[1;32m      4\u001b[0m \u001b[0madataNames\u001b[0m\u001b[0;34m.\u001b[0m\u001b[0msort\u001b[0m\u001b[0;34m(\u001b[0m\u001b[0;34m)\u001b[0m\u001b[0;34m\u001b[0m\u001b[0;34m\u001b[0m\u001b[0m\n\u001b[1;32m      5\u001b[0m \u001b[0;31m#adataNames\u001b[0m\u001b[0;34m\u001b[0m\u001b[0;34m\u001b[0m\u001b[0;34m\u001b[0m\u001b[0m\n",
      "\u001b[0;31mFileNotFoundError\u001b[0m: [Errno 2] No such file or directory: './adataObjs/'"
     ]
    }
   ],
   "source": [
    "#Read the downloaded output file names and combine file with same S\n",
    "adataNames = os.listdir('./adataObjs/')\n",
    "adataList = []\n",
    "adataNames.sort()\n",
    "#adataNames"
   ]
  },
  {
   "cell_type": "code",
   "execution_count": 4,
   "metadata": {},
   "outputs": [
    {
     "name": "stdout",
     "output_type": "stream",
     "text": [
      "(23914, 4)\n"
     ]
    },
    {
     "data": {
      "text/html": [
       "<div>\n",
       "<style scoped>\n",
       "    .dataframe tbody tr th:only-of-type {\n",
       "        vertical-align: middle;\n",
       "    }\n",
       "\n",
       "    .dataframe tbody tr th {\n",
       "        vertical-align: top;\n",
       "    }\n",
       "\n",
       "    .dataframe thead th {\n",
       "        text-align: right;\n",
       "    }\n",
       "</style>\n",
       "<table border=\"1\" class=\"dataframe\">\n",
       "  <thead>\n",
       "    <tr style=\"text-align: right;\">\n",
       "      <th></th>\n",
       "      <th>cell</th>\n",
       "      <th>treatment</th>\n",
       "      <th>replicate</th>\n",
       "      <th>barcodes</th>\n",
       "    </tr>\n",
       "  </thead>\n",
       "  <tbody>\n",
       "    <tr>\n",
       "      <th>0</th>\n",
       "      <td>SCC1</td>\n",
       "      <td>CTX</td>\n",
       "      <td>R1</td>\n",
       "      <td>AAACCTGAGTTGTCGT</td>\n",
       "    </tr>\n",
       "    <tr>\n",
       "      <th>1</th>\n",
       "      <td>SCC1</td>\n",
       "      <td>CTX</td>\n",
       "      <td>R1</td>\n",
       "      <td>AAACCTGCACAGCGTC</td>\n",
       "    </tr>\n",
       "    <tr>\n",
       "      <th>2</th>\n",
       "      <td>SCC1</td>\n",
       "      <td>CTX</td>\n",
       "      <td>R1</td>\n",
       "      <td>AAACCTGGTACTTCTT</td>\n",
       "    </tr>\n",
       "    <tr>\n",
       "      <th>3</th>\n",
       "      <td>SCC1</td>\n",
       "      <td>CTX</td>\n",
       "      <td>R1</td>\n",
       "      <td>AAAGATGGTGTGAATA</td>\n",
       "    </tr>\n",
       "    <tr>\n",
       "      <th>4</th>\n",
       "      <td>SCC1</td>\n",
       "      <td>CTX</td>\n",
       "      <td>R1</td>\n",
       "      <td>AAAGCAAGTAGCTGCC</td>\n",
       "    </tr>\n",
       "  </tbody>\n",
       "</table>\n",
       "</div>"
      ],
      "text/plain": [
       "   cell treatment replicate          barcodes\n",
       "0  SCC1       CTX        R1  AAACCTGAGTTGTCGT\n",
       "1  SCC1       CTX        R1  AAACCTGCACAGCGTC\n",
       "2  SCC1       CTX        R1  AAACCTGGTACTTCTT\n",
       "3  SCC1       CTX        R1  AAAGATGGTGTGAATA\n",
       "4  SCC1       CTX        R1  AAAGCAAGTAGCTGCC"
      ]
     },
     "execution_count": 4,
     "metadata": {},
     "output_type": "execute_result"
    }
   ],
   "source": [
    "phenoDat = pd.read_csv('phenoSCCall.csv')\n",
    "phenoDat.drop('Unnamed: 0',axis=1, inplace=True)\n",
    "print(phenoDat.shape)\n",
    "phenoDat.head()"
   ]
  },
  {
   "cell_type": "code",
   "execution_count": 11,
   "metadata": {},
   "outputs": [
    {
     "data": {
      "text/plain": [
       "Int64Index([    4,    42,    61,   110,   117,   145,   173,   199,   245,\n",
       "              250,\n",
       "            ...\n",
       "            23544, 23569, 23622, 23740, 23754, 23765, 23846, 23855, 23884,\n",
       "            23890],\n",
       "           dtype='int64', length=657)"
      ]
     },
     "execution_count": 11,
     "metadata": {},
     "output_type": "execute_result"
    }
   ],
   "source": [
    "dup = phenoDat.duplicated('barcodes',keep=False)\n",
    "dupPhenoDat = phenoDat.loc[dup,:]\n",
    "dupPhenoDat.index"
   ]
  },
  {
   "cell_type": "code",
   "execution_count": 5,
   "metadata": {},
   "outputs": [
    {
     "data": {
      "text/html": [
       "<div>\n",
       "<style scoped>\n",
       "    .dataframe tbody tr th:only-of-type {\n",
       "        vertical-align: middle;\n",
       "    }\n",
       "\n",
       "    .dataframe tbody tr th {\n",
       "        vertical-align: top;\n",
       "    }\n",
       "\n",
       "    .dataframe thead th {\n",
       "        text-align: right;\n",
       "    }\n",
       "</style>\n",
       "<table border=\"1\" class=\"dataframe\">\n",
       "  <thead>\n",
       "    <tr style=\"text-align: right;\">\n",
       "      <th></th>\n",
       "      <th>cell</th>\n",
       "      <th>treatment</th>\n",
       "      <th>replicate</th>\n",
       "      <th>barcodes</th>\n",
       "    </tr>\n",
       "  </thead>\n",
       "  <tbody>\n",
       "    <tr>\n",
       "      <th>11621</th>\n",
       "      <td>SCC25</td>\n",
       "      <td>PBS</td>\n",
       "      <td>R2</td>\n",
       "      <td>AAACGGGAGAAGATTC</td>\n",
       "    </tr>\n",
       "    <tr>\n",
       "      <th>7273</th>\n",
       "      <td>SCC25</td>\n",
       "      <td>CTX</td>\n",
       "      <td>R2</td>\n",
       "      <td>AAACGGGAGAAGATTC</td>\n",
       "    </tr>\n",
       "    <tr>\n",
       "      <th>4</th>\n",
       "      <td>SCC1</td>\n",
       "      <td>CTX</td>\n",
       "      <td>R1</td>\n",
       "      <td>AAAGCAAGTAGCTGCC</td>\n",
       "    </tr>\n",
       "    <tr>\n",
       "      <th>965</th>\n",
       "      <td>SCC1</td>\n",
       "      <td>CTX</td>\n",
       "      <td>R2</td>\n",
       "      <td>AAAGCAAGTAGCTGCC</td>\n",
       "    </tr>\n",
       "    <tr>\n",
       "      <th>3616</th>\n",
       "      <td>SCC1</td>\n",
       "      <td>PBS</td>\n",
       "      <td>R2</td>\n",
       "      <td>AACACGTCATCAGTCA</td>\n",
       "    </tr>\n",
       "  </tbody>\n",
       "</table>\n",
       "</div>"
      ],
      "text/plain": [
       "        cell treatment replicate          barcodes\n",
       "11621  SCC25       PBS        R2  AAACGGGAGAAGATTC\n",
       "7273   SCC25       CTX        R2  AAACGGGAGAAGATTC\n",
       "4       SCC1       CTX        R1  AAAGCAAGTAGCTGCC\n",
       "965     SCC1       CTX        R2  AAAGCAAGTAGCTGCC\n",
       "3616    SCC1       PBS        R2  AACACGTCATCAGTCA"
      ]
     },
     "execution_count": 5,
     "metadata": {},
     "output_type": "execute_result"
    }
   ],
   "source": [
    "dupPhenoDat.sort_values('barcodes').head()"
   ]
  },
  {
   "cell_type": "code",
   "execution_count": 9,
   "metadata": {},
   "outputs": [
    {
     "data": {
      "text/plain": [
       "Int64Index([    4,   965,  9344, 11662, 14257,  5322, 21512, 11687, 18811,\n",
       "             9373,\n",
       "            ...\n",
       "             3590, 14137, 18670,   937,  2317,   939, 14155, 21399, 21406,\n",
       "            23890],\n",
       "           dtype='int64', length=316)"
      ]
     },
     "execution_count": 9,
     "metadata": {},
     "output_type": "execute_result"
    }
   ],
   "source": [
    "dup2 = dupPhenoDat.duplicated(['barcodes','treatment'],keep=False)\n",
    "dupKeep = dupPhenoDat.loc[dup2,:].sort_values('barcodes')\n",
    "dupKeep.index"
   ]
  },
  {
   "cell_type": "code",
   "execution_count": 14,
   "metadata": {},
   "outputs": [],
   "source": [
    "remove = [x for x in list(dupPhenoDat.index) if x not in list(dupKeep.index)]"
   ]
  },
  {
   "cell_type": "code",
   "execution_count": 18,
   "metadata": {},
   "outputs": [
    {
     "name": "stdout",
     "output_type": "stream",
     "text": [
      "(23573, 4)\n"
     ]
    },
    {
     "data": {
      "text/plain": [
       "23415"
      ]
     },
     "execution_count": 18,
     "metadata": {},
     "output_type": "execute_result"
    }
   ],
   "source": [
    "pD = phenoDat.drop(remove,60)\n",
    "print(pD.shape)\n",
    "len(set(pD['barcodes']))"
   ]
  },
  {
   "cell_type": "code",
   "execution_count": null,
   "metadata": {},
   "outputs": [],
   "source": [
    "keep = list(set(phenoDat['barcodes']))"
   ]
  },
  {
   "cell_type": "code",
   "execution_count": null,
   "metadata": {},
   "outputs": [],
   "source": [
    "%%time\n",
    "for filename in adataNames[1:]:\n",
    "    print('started working on ' + filename)\n",
    "    an = ad.read_h5ad('./adataObjs/'+filename)\n",
    "    cX = an.X.toarray()\n",
    "    cS = an.layers['spliced'].toarray()\n",
    "    cU = an.layers['unspliced'].toarray()\n",
    "    var_names = an.var.index.values\n",
    "    delete = []\n",
    "    obsNames = []\n",
    "    print('checking indices')\n",
    "    for i in range(an.shape[0]):\n",
    "        if(i%25000 == 0):\n",
    "            print('index reached' + str(i))\n",
    "        if an.obs.index[i] not in keep:\n",
    "            delete.append(i)\n",
    "        else:\n",
    "            obsNames.append(an.obs.index[i])\n",
    "    print('deleting')\n",
    "    cX = np.delete(cX,delete,0)\n",
    "    cS = np.delete(cS,delete,0)\n",
    "    cU = np.delete(cU,delete,0)\n",
    "    print(obsNames[:10])\n",
    "    cX = scp.sparse.csr_matrix(cX)\n",
    "    cS = scp.sparse.csr_matrix(cS)\n",
    "    cU = scp.sparse.csr_matrix(cU)\n",
    "    updatedAdata = ad.AnnData(cX,\n",
    "                      {'obs_names': obsNames},\n",
    "                      {'var_names': var_names},\n",
    "                       layers={'spliced':cS,\n",
    "                              'unspliced':cU})\n",
    "    fname = './adataObjsKeep/' + filename[7:-5] + '_keep'+ '.h5ad'\n",
    "    print('updated adata is:')\n",
    "    print(updatedAdata)\n",
    "    print('writing file '+fname)\n",
    "    updatedAdata.write(fname)"
   ]
  }
 ],
 "metadata": {
  "kernelspec": {
   "display_name": "(Fertig) Python 3.7",
   "language": "python",
   "name": "fertig_python_3_7"
  },
  "language_info": {
   "codemirror_mode": {
    "name": "ipython",
    "version": 3
   },
   "file_extension": ".py",
   "mimetype": "text/x-python",
   "name": "python",
   "nbconvert_exporter": "python",
   "pygments_lexer": "ipython3",
   "version": "3.7.3"
  }
 },
 "nbformat": 4,
 "nbformat_minor": 2
}
